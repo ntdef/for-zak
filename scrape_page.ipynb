{
 "cells": [
  {
   "cell_type": "code",
   "execution_count": 40,
   "metadata": {
    "collapsed": true
   },
   "outputs": [],
   "source": [
    "from bs4 import BeautifulSoup\n",
    "import urllib\n",
    "BASE_URL = \"http://www.himssconference.org\""
   ]
  },
  {
   "cell_type": "code",
   "execution_count": 33,
   "metadata": {
    "collapsed": false
   },
   "outputs": [],
   "source": [
    "r = urllib.urlopen(BASE_URL+\"/Search/ExhibitorSearch\").read()"
   ]
  },
  {
   "cell_type": "code",
   "execution_count": 7,
   "metadata": {
    "collapsed": false
   },
   "outputs": [
    {
     "name": "stdout",
     "output_type": "stream",
     "text": [
      "<class 'bs4.BeautifulSoup'>\n"
     ]
    }
   ],
   "source": [
    "soup = BeautifulSoup(r)\n",
    "print type(soup)"
   ]
  },
  {
   "cell_type": "code",
   "execution_count": 8,
   "metadata": {
    "collapsed": false
   },
   "outputs": [
    {
     "name": "stdout",
     "output_type": "stream",
     "text": [
      "<!DOCTYPE html PUBLIC \"-//W3C//DTD XHTML+RDFa 1.0//EN\"\n",
      "  \"http://www.w3.org/MarkUp/DTD/xhtml-rdfa-1.dtd\">\n",
      "<html dir=\"ltr\" lang=\"en\" xmlns:article=\"http://ogp.me/ns/article#\" xmlns:book=\"http://ogp.me/ns/book#\" xmlns:content=\"http://purl.org/rss/1.0/modules/content/\" xmlns:dc=\"http://purl.org/dc/terms/\" xmlns:fb=\"http://ogp.me/ns/fb#\" xmlns:foaf=\"http://xmlns.com/foaf/0.1/\" xmlns:og=\"http://ogp.me/ns#\" xmlns:product=\"http://ogp.me/ns/product#\" xmlns:profile=\"http://ogp.me/ns/profile#\" xmlns:rdfs=\"http://www.w3.org/2000/01/rdf-schema#\" xmlns:sioc=\"http://rdfs.org/sioc/ns#\" xmlns:sioct=\"http://rdfs.org/sioc/types#\" xmlns:skos=\"http://www.w3.org/2004/02/skos/core#\" xmlns:video=\"http://ogp.me/ns/video#\" xmlns:xsd=\"http://www.w3.org/2001/XMLSchema#\">\n",
      " <head profile=\"http://www.w3.org/1999/xhtml/vocab\">\n",
      "  <meta charset=\"utf-8\">\n",
      "   <meta content=\"width=device-width, initial-scale=1.0\" name=\"viewport\">\n",
      "    <!--[if IE]><![endif]-->\n",
      "    <meta content=\"text/html; charset=utf-8\" http-equiv=\"Content\n"
     ]
    }
   ],
   "source": [
    "print soup.prettify()[0:1000]"
   ]
  },
  {
   "cell_type": "code",
   "execution_count": 15,
   "metadata": {
    "collapsed": false,
    "scrolled": false
   },
   "outputs": [],
   "source": [
    "x = soup.find_all(\"div\", class_=\"node-exhibitor\")[0]"
   ]
  },
  {
   "cell_type": "code",
   "execution_count": 29,
   "metadata": {
    "collapsed": false
   },
   "outputs": [],
   "source": [
    "def get_exhibitor_href(div):\n",
    "    return div.find_all(\"div\", class_=\"field-name-title\")[0].find_all(\"a\")[0]"
   ]
  },
  {
   "cell_type": "code",
   "execution_count": 37,
   "metadata": {
    "collapsed": true
   },
   "outputs": [],
   "source": [
    "def get_name_link(href):\n",
    "    return href.text, BASE_URL+href['href']"
   ]
  },
  {
   "cell_type": "code",
   "execution_count": 38,
   "metadata": {
    "collapsed": false
   },
   "outputs": [
    {
     "name": "stdout",
     "output_type": "stream",
     "text": [
      "Company: (ISC)2\n",
      "Link: http://www.himssconference.org/exhibitor/isc2\n",
      "Company: 1Call, A Division of AMTELCO\n",
      "Link: http://www.himssconference.org/exhibitor/1call-division-amtelco\n",
      "Company: 1Source International\n",
      "Link: http://www.himssconference.org/exhibitor/1source-international\n",
      "Company: 22nd Century Technologies, Inc.\n",
      "Link: http://www.himssconference.org/exhibitor/22nd-century-technologies-inc\n",
      "Company: 22otters\n",
      "Link: http://www.himssconference.org/exhibitor/22otters\n",
      "Company: 3M Health Information Systems\n",
      "Link: http://www.himssconference.org/exhibitor/3m-health-information-systems\n",
      "Company: 4MEDPLUS Corporation \n",
      "Link: http://www.himssconference.org/exhibitor/4medplus-corporation\n",
      "Company: 7 Medical Systems, LLC\n",
      "Link: http://www.himssconference.org/exhibitor/7-medical-systems-llc\n",
      "Company: 8K Miles\n",
      "Link: http://www.himssconference.org/exhibitor/8k-miles\n",
      "Company: @Point of Care\n",
      "Link: http://www.himssconference.org/exhibitor/point-care\n",
      "Company: A-LIGN\n",
      "Link: http://www.himssconference.org/exhibitor/lign\n",
      "Company: A2iA Corp.\n",
      "Link: http://www.himssconference.org/exhibitor/a2ia-corp\n",
      "Company: Acaveo\n",
      "Link: http://www.himssconference.org/exhibitor/acaveo\n",
      "Company: Accenture\n",
      "Link: http://www.himssconference.org/exhibitor/accenture\n",
      "Company: Access\n",
      "Link: http://www.himssconference.org/exhibitor/access\n",
      "Company: Accruent\n",
      "Link: http://www.himssconference.org/exhibitor/accruent\n",
      "Company: Accusoft\n",
      "Link: http://www.himssconference.org/exhibitor/accusoft\n",
      "Company: ActualMeds\n",
      "Link: http://www.himssconference.org/exhibitor/actualmeds\n",
      "Company: ACUPERA\n",
      "Link: http://www.himssconference.org/exhibitor/acupera\n",
      "Company: Adherence Solutions, LLC\n",
      "Link: http://www.himssconference.org/exhibitor/adherence-solutions-llc\n",
      "Company: ADLINK Technology, Inc.\n",
      "Link: http://www.himssconference.org/exhibitor/adlink-technology-inc\n",
      "Company: Advanced ICU Care\n",
      "Link: http://www.himssconference.org/exhibitor/advanced-icu-care\n",
      "Company: AEGIS.net, Inc.\n",
      "Link: http://www.himssconference.org/exhibitor/aegisnet-inc\n",
      "Company: AFC Industries, Inc.\n",
      "Link: http://www.himssconference.org/exhibitor/afc-industries-inc\n",
      "Company: Agfa HealthCare\n",
      "Link: http://www.himssconference.org/exhibitor/agfa-healthcare\n"
     ]
    }
   ],
   "source": [
    "for i in soup.find_all(\"div\", class_=\"node-exhibitor\"):\n",
    "    company, link = get_name_link(get_exhibitor(i))\n",
    "    print \"Company:\", company\n",
    "    print \"Link:\", link"
   ]
  },
  {
   "cell_type": "code",
   "execution_count": null,
   "metadata": {
    "collapsed": true
   },
   "outputs": [],
   "source": []
  }
 ],
 "metadata": {
  "kernelspec": {
   "display_name": "Python 2",
   "language": "python",
   "name": "python2"
  },
  "language_info": {
   "codemirror_mode": {
    "name": "ipython",
    "version": 2
   },
   "file_extension": ".py",
   "mimetype": "text/x-python",
   "name": "python",
   "nbconvert_exporter": "python",
   "pygments_lexer": "ipython2",
   "version": "2.7.11"
  }
 },
 "nbformat": 4,
 "nbformat_minor": 0
}
